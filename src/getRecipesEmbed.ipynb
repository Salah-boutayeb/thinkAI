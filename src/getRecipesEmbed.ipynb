{
 "cells": [
  {
   "cell_type": "code",
   "execution_count": null,
   "metadata": {},
   "outputs": [],
   "source": [
    "import cohere\n",
    "import os\n",
    "import numpy\n",
    "import math\n",
    "\n",
    "from dotenv import load_dotenv\n",
    "\n",
    "\n",
    "load_dotenv()\n",
    "key = os.getenv(\"openai_api_key\")\n",
    "\n",
    "co = cohere.Client(key)\n",
    "\n",
    "\n"
   ]
  },
  {
   "cell_type": "code",
   "execution_count": null,
   "metadata": {},
   "outputs": [],
   "source": [
    "file = open(\"C:\\\\Users\\\\bouta\\\\OneDrive\\\\Bureau\\\\hackathons\\\\Think AI\\\\src\\\\util\\\\data.txt\", \"r\")\n",
    "\n",
    "texts = []\n",
    "for line in file:\n",
    "    \n",
    "    texts.append(\"recipe title: \"+line.split(\":\")[0]+\"  ingridients: \"+line.split(\":\")[1])\n",
    "    \n",
    "print(texts)    "
   ]
  },
  {
   "cell_type": "code",
   "execution_count": 31,
   "metadata": {},
   "outputs": [
    {
     "name": "stdout",
     "output_type": "stream",
     "text": [
      "50\n"
     ]
    }
   ],
   "source": [
    "response = co.embed(\n",
    "    texts=texts,\n",
    "    model='small',\n",
    ")\n",
    "embeddings=response.embeddings\n",
    "for embedding in embeddings:\n",
    "    print(embedding)\n",
    "\n",
    "\n"
   ]
  },
  {
   "cell_type": "code",
   "execution_count": null,
   "metadata": {},
   "outputs": [],
   "source": [
    "\"\"\" let's test here first \"\"\"\n",
    "response = co.embed(\n",
    "    texts=[\"recipe title: fish Tagine with Preserved Lemons and Olives  ingridients:  fish thighs, onions, garlic, preserved lemons, green olives, ginger, cumin, coriander, parsley, olive oil, salt, black pepper\"],\n",
    "    model='small',\n",
    ")\n",
    "embeddingForRecipeTest=response.embeddings\n",
    "\n",
    "\n"
   ]
  }
 ],
 "metadata": {
  "kernelspec": {
   "display_name": "Python 3.9.0 ('venv': venv)",
   "language": "python",
   "name": "python3"
  },
  "language_info": {
   "codemirror_mode": {
    "name": "ipython",
    "version": 3
   },
   "file_extension": ".py",
   "mimetype": "text/x-python",
   "name": "python",
   "nbconvert_exporter": "python",
   "pygments_lexer": "ipython3",
   "version": "3.9.0"
  },
  "orig_nbformat": 4,
  "vscode": {
   "interpreter": {
    "hash": "56bb394016fac96072ff70c3295b0bbec1d1fa14e4290a31b8789b2f406926fc"
   }
  }
 },
 "nbformat": 4,
 "nbformat_minor": 2
}
